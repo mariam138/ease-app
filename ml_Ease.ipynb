{
  "nbformat": 4,
  "nbformat_minor": 0,
  "metadata": {
    "colab": {
      "provenance": [],
      "authorship_tag": "ABX9TyPJOkERbh9mK1VHw66yXc7Z",
      "include_colab_link": true
    },
    "kernelspec": {
      "name": "python3",
      "display_name": "Python 3"
    },
    "language_info": {
      "name": "python"
    }
  },
  "cells": [
    {
      "cell_type": "markdown",
      "metadata": {
        "id": "view-in-github",
        "colab_type": "text"
      },
      "source": [
        "<a href=\"https://colab.research.google.com/github/mariam138/ease-app/blob/main/ml_Ease.ipynb\" target=\"_parent\"><img src=\"https://colab.research.google.com/assets/colab-badge.svg\" alt=\"Open In Colab\"/></a>"
      ]
    },
    {
      "cell_type": "markdown",
      "source": [],
      "metadata": {
        "id": "nc8JvjP3GnjN"
      }
    },
    {
      "cell_type": "markdown",
      "source": [
        "## Machine Learning  - EASE Aapp\n",
        "\n",
        "> Please note that this is a sample code and is not to be run as there is no existing user data. This is to showcase  use and deployment.  \n",
        "\n"
      ],
      "metadata": {
        "id": "BqbPpRXFGpZV"
      }
    },
    {
      "cell_type": "markdown",
      "source": [
        "Collect User Behaviour Data in the Backend\n",
        "✅ Example Data Structure (JSON from Ease app):\n",
        "\n",
        "json\n",
        "\n",
        "```\n",
        "{\n",
        "  \"user_id\": \"123\",\n",
        "  \"event\": \"gym\",\n",
        "  \"day\": \"Thursday\",\n",
        "  \"hour\": 20,\n",
        "  \"wash_type\": \"delicate\",\n",
        "  \"suggestion_accepted\": true\n",
        "}\n",
        "\n",
        "```\n",
        "\n",
        "Store these entries in a database\n"
      ],
      "metadata": {
        "id": "DyDXHNNDE7we"
      }
    },
    {
      "cell_type": "markdown",
      "source": [
        "### Train ML Model\n",
        "We can train and compare several models as follows: As this is multiclass, we train and test the following and use hyperparameter tuning and validation techniques.\n",
        "\n",
        "✅ Decision Trees, Random Forest\n",
        "\n",
        "✅ Clustering  (eg. KNN)\n",
        "\n",
        "✅ Neural Networks"
      ],
      "metadata": {
        "id": "ypAWcIGYFTar"
      }
    },
    {
      "cell_type": "code",
      "source": [
        "#example ML modelling (Random Forest)\n",
        "import pandas as pd\n",
        "import numpy as np\n",
        "from sklearn.model_selection import train_test_split, GridSearchCV\n",
        "from sklearn.ensemble import RandomForestClassifier\n",
        "from sklearn.metrics import classification_report, accuracy_score\n",
        "import joblib\n",
        "import os\n",
        "\n",
        "# extract dataset from database, csv\n",
        "df = pd.read_csv(\"user_wash_data.csv\")\n",
        "\n",
        "\n",
        "# Data processing: One-hot encode categorical variables\n",
        "df_encoded = pd.get_dummies(df, columns=[\"event\", \"day\", \"wash_type\"])\n",
        "X = df_encoded.drop(\"accepted\", axis=1)\n",
        "y = df_encoded[\"accepted\"]\n",
        "\n",
        "# Train/test split\n",
        "X_train, X_test, y_train, y_test = train_test_split(X, y, test_size=0.2, random_state=42)\n",
        "\n",
        "# Random Forest with hyperparameter tuning\n",
        "rf_params = {\n",
        "    'n_estimators': [50, 100],\n",
        "    'max_depth': [3, 5, 10]\n",
        "}\n",
        "rf = GridSearchCV(RandomForestClassifier(random_state=42), rf_params, cv=5)\n",
        "rf.fit(X_train, y_train)\n",
        "\n",
        "# Evaluate model\n",
        "y_pred = rf.predict(X_test)\n",
        "print(\"Best Parameters:\", rf.best_params_)\n",
        "print(\"Accuracy:\", accuracy_score(y_test, y_pred))\n",
        "print(\"Classification Report:\\n\", classification_report(y_test, y_pred))\n",
        "\n",
        "# *Save model\n",
        "os.makedirs(\"model\", exist_ok=True)\n",
        "joblib.dump(rf, \"model/random_forest_model.pkl\")"
      ],
      "metadata": {
        "id": "Tew5pc-LFozu"
      },
      "execution_count": null,
      "outputs": []
    },
    {
      "cell_type": "markdown",
      "source": [
        "* several models with hyper-parameter tuning should be trained/validated and compared before saving the best performance model"
      ],
      "metadata": {
        "id": "651OL_RQFuPu"
      }
    },
    {
      "cell_type": "markdown",
      "source": [
        "### 4. Model Deployment\n",
        "Once modelling has been completed and models are compared and cross validated. Model is deployed back into the app"
      ],
      "metadata": {
        "id": "K9-ZxE5BF6yF"
      }
    },
    {
      "cell_type": "code",
      "source": [
        "from fastapi import FastAPI\n",
        "from pydantic import BaseModel\n",
        "import pandas as pd\n",
        "import joblib\n",
        "\n",
        "# Initialize FastAPI app\n",
        "app = FastAPI()\n",
        "\n",
        "# Load model\n",
        "model = joblib.load(\"model/random_forest_model.joblib\")\n",
        "\n",
        "# These should match your training features\n",
        "FEATURE_COLUMNS = [\n",
        "    'hour',\n",
        "    'event_gym', 'event_rest', 'event_work',\n",
        "    'day_Friday', 'day_Monday', 'day_Saturday', 'day_Sunday',\n",
        "    'day_Thursday', 'day_Tuesday', 'day_Wednesday',\n",
        "    'wash_type_delicate', 'wash_type_normal', 'wash_type_spin'\n",
        "]\n",
        "\n",
        "# Define request body model using Pydantic\n",
        "class WashInput(BaseModel):\n",
        "    hour: int\n",
        "    event_gym: int = 0\n",
        "    event_rest: int = 0\n",
        "    event_work: int = 0\n",
        "    day_Friday: int = 0\n",
        "    day_Monday: int = 0\n",
        "    day_Saturday: int = 0\n",
        "    day_Sunday: int = 0\n",
        "    day_Thursday: int = 0\n",
        "    day_Tuesday: int = 0\n",
        "    day_Wednesday: int = 0\n",
        "    wash_type_delicate: int = 0\n",
        "    wash_type_normal: int = 0\n",
        "    wash_type_spin: int = 0\n",
        "\n",
        "@app.post(\"/predict\")\n",
        "def predict(input_data: WashInput):\n",
        "    input_dict = input_data.dict()\n",
        "    input_df = pd.DataFrame([input_dict])\n",
        "    input_df = input_df.reindex(columns=FEATURE_COLUMNS, fill_value=0)\n",
        "\n",
        "    prediction = model.predict(input_df)[0]\n",
        "\n",
        "    return {\"accepted\": bool(prediction)}\n"
      ],
      "metadata": {
        "id": "BbJYBGeFGENs"
      },
      "execution_count": null,
      "outputs": []
    }
  ]
}